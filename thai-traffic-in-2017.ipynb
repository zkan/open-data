{
 "cells": [
  {
   "cell_type": "markdown",
   "metadata": {},
   "source": [
    "ปริมาณจราจร ปี 2560 - https://data.go.th/DatasetDetail.aspx?id=4be8c846-a4db-4ec4-99dd-59688b9e0dea"
   ]
  },
  {
   "cell_type": "code",
   "execution_count": 1,
   "metadata": {},
   "outputs": [],
   "source": [
    "import pandas as pd"
   ]
  },
  {
   "cell_type": "code",
   "execution_count": 7,
   "metadata": {},
   "outputs": [],
   "source": [
    "df = pd.read_csv('data/traffic-2560.csv', encoding='tis620')"
   ]
  },
  {
   "cell_type": "code",
   "execution_count": 8,
   "metadata": {},
   "outputs": [
    {
     "data": {
      "text/html": [
       "<div>\n",
       "<style scoped>\n",
       "    .dataframe tbody tr th:only-of-type {\n",
       "        vertical-align: middle;\n",
       "    }\n",
       "\n",
       "    .dataframe tbody tr th {\n",
       "        vertical-align: top;\n",
       "    }\n",
       "\n",
       "    .dataframe thead th {\n",
       "        text-align: right;\n",
       "    }\n",
       "</style>\n",
       "<table border=\"1\" class=\"dataframe\">\n",
       "  <thead>\n",
       "    <tr style=\"text-align: right;\">\n",
       "      <th></th>\n",
       "      <th>ทางหลวงสาย</th>\n",
       "      <th>ตอนควบคุม</th>\n",
       "      <th>ชื่อสายทาง</th>\n",
       "      <th>จุดสำรวจ</th>\n",
       "      <th>รถยนต์นั่ง (ไม่เกิน 7 คน)</th>\n",
       "      <th>รถยนต์นั่ง (เกิน 7 คน)</th>\n",
       "      <th>รถโดยสารขนาดเล็ก</th>\n",
       "      <th>รถโดยสารขนาดกลาง</th>\n",
       "      <th>รถโดยสารขนาดใหญ่</th>\n",
       "      <th>รถบรรทุกขนาดเล็ก    ( 4 ล้อ)</th>\n",
       "      <th>รถบรรทุกขนาด 2 เพลา  (6 ล้อ)</th>\n",
       "      <th>รถบรรทุกขนาด 3 เพลา (10 ล้อ)</th>\n",
       "      <th>รถบรรทุกพ่วง  (มากกว่า 3 เพลา)</th>\n",
       "      <th>รถบรรทุกกึ่งพ่วง (มากกว่า 3 เพลา)</th>\n",
       "      <th>รวม</th>\n",
       "      <th>% ของยานยนต์หนัก</th>\n",
       "      <th>จักรยาน 2 ล้อ และ จักรยาน 3 ล้อ</th>\n",
       "      <th>สามล้อเครื่องและจักรยานยนต์</th>\n",
       "      <th>แขวงการทาง</th>\n",
       "      <th>จังหวัด</th>\n",
       "    </tr>\n",
       "  </thead>\n",
       "  <tbody>\n",
       "    <tr>\n",
       "      <th>0</th>\n",
       "      <td>1</td>\n",
       "      <td>102</td>\n",
       "      <td>แยก คปอ. - สนามกีฬาธูปะเตมีย์</td>\n",
       "      <td>25+556</td>\n",
       "      <td>27,826</td>\n",
       "      <td>14,441</td>\n",
       "      <td>876</td>\n",
       "      <td>2,486</td>\n",
       "      <td>3,058</td>\n",
       "      <td>8,636</td>\n",
       "      <td>921</td>\n",
       "      <td>291</td>\n",
       "      <td>192</td>\n",
       "      <td>89</td>\n",
       "      <td>58,816</td>\n",
       "      <td>11.96</td>\n",
       "      <td>47</td>\n",
       "      <td>9,444</td>\n",
       "      <td>ขท.กรุงเทพ</td>\n",
       "      <td>กรุงเทพมหานคร</td>\n",
       "    </tr>\n",
       "    <tr>\n",
       "      <th>1</th>\n",
       "      <td>1</td>\n",
       "      <td>201</td>\n",
       "      <td>สนามกีฬาธูปะเตมีย์ - ต่างระดับคลองหลวง</td>\n",
       "      <td>35+550</td>\n",
       "      <td>185,739</td>\n",
       "      <td>39,258</td>\n",
       "      <td>19,273</td>\n",
       "      <td>4,403</td>\n",
       "      <td>12,949</td>\n",
       "      <td>66,696</td>\n",
       "      <td>9,507</td>\n",
       "      <td>4,037</td>\n",
       "      <td>2,932</td>\n",
       "      <td>2,563</td>\n",
       "      <td>347,357</td>\n",
       "      <td>10.48</td>\n",
       "      <td>590</td>\n",
       "      <td>17,484</td>\n",
       "      <td>ขท.ปทุมธานี</td>\n",
       "      <td>ปทุมธานี</td>\n",
       "    </tr>\n",
       "    <tr>\n",
       "      <th>2</th>\n",
       "      <td>1</td>\n",
       "      <td>202</td>\n",
       "      <td>ต่างระดับคลองหลวง - ประตูน้ำพระอินทร์</td>\n",
       "      <td>48+100</td>\n",
       "      <td>68,977</td>\n",
       "      <td>23,319</td>\n",
       "      <td>2,182</td>\n",
       "      <td>3,955</td>\n",
       "      <td>7,857</td>\n",
       "      <td>38,007</td>\n",
       "      <td>15,338</td>\n",
       "      <td>2,339</td>\n",
       "      <td>1,023</td>\n",
       "      <td>708</td>\n",
       "      <td>163,705</td>\n",
       "      <td>19.07</td>\n",
       "      <td>64</td>\n",
       "      <td>10,187</td>\n",
       "      <td>ขท.ปทุมธานี</td>\n",
       "      <td>พระนครศรีอยุธยา</td>\n",
       "    </tr>\n",
       "    <tr>\n",
       "      <th>3</th>\n",
       "      <td>1</td>\n",
       "      <td>300</td>\n",
       "      <td>ประตูน้ำพระอินทร์ - หนองแค</td>\n",
       "      <td>60+800</td>\n",
       "      <td>40,214</td>\n",
       "      <td>21,032</td>\n",
       "      <td>7,113</td>\n",
       "      <td>2,237</td>\n",
       "      <td>7,280</td>\n",
       "      <td>15,558</td>\n",
       "      <td>14,177</td>\n",
       "      <td>9,342</td>\n",
       "      <td>8,588</td>\n",
       "      <td>7,562</td>\n",
       "      <td>133,103</td>\n",
       "      <td>36.95</td>\n",
       "      <td>0</td>\n",
       "      <td>2,706</td>\n",
       "      <td>ขท.อยุธยา</td>\n",
       "      <td>พระนครศรีอยุธยา</td>\n",
       "    </tr>\n",
       "    <tr>\n",
       "      <th>4</th>\n",
       "      <td>1</td>\n",
       "      <td>300</td>\n",
       "      <td>ประตูน้ำพระอินทร์ - หนองแค</td>\n",
       "      <td>67+300</td>\n",
       "      <td>40,764</td>\n",
       "      <td>19,350</td>\n",
       "      <td>7,186</td>\n",
       "      <td>1,582</td>\n",
       "      <td>6,375</td>\n",
       "      <td>15,522</td>\n",
       "      <td>14,379</td>\n",
       "      <td>9,414</td>\n",
       "      <td>9,640</td>\n",
       "      <td>8,413</td>\n",
       "      <td>132,625</td>\n",
       "      <td>37.55</td>\n",
       "      <td>0</td>\n",
       "      <td>2,214</td>\n",
       "      <td>ขท.อยุธยา</td>\n",
       "      <td>พระนครศรีอยุธยา</td>\n",
       "    </tr>\n",
       "  </tbody>\n",
       "</table>\n",
       "</div>"
      ],
      "text/plain": [
       "   ทางหลวงสาย  ตอนควบคุม                              ชื่อสายทาง จุดสำรวจ  \\\n",
       "0           1        102           แยก คปอ. - สนามกีฬาธูปะเตมีย์   25+556   \n",
       "1           1        201  สนามกีฬาธูปะเตมีย์ - ต่างระดับคลองหลวง   35+550   \n",
       "2           1        202   ต่างระดับคลองหลวง - ประตูน้ำพระอินทร์   48+100   \n",
       "3           1        300              ประตูน้ำพระอินทร์ - หนองแค   60+800   \n",
       "4           1        300              ประตูน้ำพระอินทร์ - หนองแค   67+300   \n",
       "\n",
       "  รถยนต์นั่ง (ไม่เกิน 7 คน) รถยนต์นั่ง (เกิน 7 คน) รถโดยสารขนาดเล็ก  \\\n",
       "0                    27,826                 14,441              876   \n",
       "1                   185,739                 39,258           19,273   \n",
       "2                    68,977                 23,319            2,182   \n",
       "3                    40,214                 21,032            7,113   \n",
       "4                    40,764                 19,350            7,186   \n",
       "\n",
       "  รถโดยสารขนาดกลาง รถโดยสารขนาดใหญ่    รถบรรทุกขนาดเล็ก    ( 4 ล้อ)  \\\n",
       "0            2,486            3,058                           8,636   \n",
       "1            4,403           12,949                          66,696   \n",
       "2            3,955            7,857                          38,007   \n",
       "3            2,237            7,280                          15,558   \n",
       "4            1,582            6,375                          15,522   \n",
       "\n",
       "  รถบรรทุกขนาด 2 เพลา  (6 ล้อ)      รถบรรทุกขนาด 3 เพลา (10 ล้อ)  \\\n",
       "0                          921                               291   \n",
       "1                        9,507                             4,037   \n",
       "2                       15,338                             2,339   \n",
       "3                       14,177                             9,342   \n",
       "4                       14,379                             9,414   \n",
       "\n",
       "     รถบรรทุกพ่วง  (มากกว่า 3 เพลา)    รถบรรทุกกึ่งพ่วง (มากกว่า 3 เพลา)  \\\n",
       "0                               192                                   89   \n",
       "1                             2,932                                2,563   \n",
       "2                             1,023                                  708   \n",
       "3                             8,588                                7,562   \n",
       "4                             9,640                                8,413   \n",
       "\n",
       "       รวม     % ของยานยนต์หนัก จักรยาน 2 ล้อ และ จักรยาน 3 ล้อ  \\\n",
       "0   58,816                11.96                              47   \n",
       "1  347,357                10.48                             590   \n",
       "2  163,705                19.07                              64   \n",
       "3  133,103                36.95                               0   \n",
       "4  132,625                37.55                               0   \n",
       "\n",
       "  สามล้อเครื่องและจักรยานยนต์   แขวงการทาง          จังหวัด  \n",
       "0                       9,444   ขท.กรุงเทพ    กรุงเทพมหานคร  \n",
       "1                      17,484  ขท.ปทุมธานี         ปทุมธานี  \n",
       "2                      10,187  ขท.ปทุมธานี  พระนครศรีอยุธยา  \n",
       "3                       2,706    ขท.อยุธยา  พระนครศรีอยุธยา  \n",
       "4                       2,214    ขท.อยุธยา  พระนครศรีอยุธยา  "
      ]
     },
     "execution_count": 8,
     "metadata": {},
     "output_type": "execute_result"
    }
   ],
   "source": [
    "df.head()"
   ]
  },
  {
   "cell_type": "code",
   "execution_count": 14,
   "metadata": {},
   "outputs": [
    {
     "data": {
      "text/plain": [
       "Index(['ทางหลวงสาย', 'ตอนควบคุม', 'ชื่อสายทาง', 'จุดสำรวจ',\n",
       "       'รถยนต์นั่ง (ไม่เกิน 7 คน)', 'รถยนต์นั่ง (เกิน 7 คน)',\n",
       "       'รถโดยสารขนาดเล็ก', 'รถโดยสารขนาดกลาง', 'รถโดยสารขนาดใหญ่',\n",
       "       '   รถบรรทุกขนาดเล็ก    ( 4 ล้อ)', 'รถบรรทุกขนาด 2 เพลา  (6 ล้อ)',\n",
       "       '     รถบรรทุกขนาด 3 เพลา (10 ล้อ)',\n",
       "       '   รถบรรทุกพ่วง  (มากกว่า 3 เพลา)',\n",
       "       '   รถบรรทุกกึ่งพ่วง (มากกว่า 3 เพลา)', 'รวม', '   % ของยานยนต์หนัก',\n",
       "       'จักรยาน 2 ล้อ และ จักรยาน 3 ล้อ', 'สามล้อเครื่องและจักรยานยนต์',\n",
       "       'แขวงการทาง', 'จังหวัด'],\n",
       "      dtype='object')"
      ]
     },
     "execution_count": 14,
     "metadata": {},
     "output_type": "execute_result"
    }
   ],
   "source": [
    "df.columns"
   ]
  },
  {
   "cell_type": "markdown",
   "metadata": {},
   "source": [
    "Clean the column names"
   ]
  },
  {
   "cell_type": "code",
   "execution_count": 15,
   "metadata": {},
   "outputs": [],
   "source": [
    "df.columns = df.columns.str.strip()"
   ]
  },
  {
   "cell_type": "code",
   "execution_count": 19,
   "metadata": {},
   "outputs": [
    {
     "name": "stdout",
     "output_type": "stream",
     "text": [
      "<class 'pandas.core.frame.DataFrame'>\n",
      "RangeIndex: 2691 entries, 0 to 2690\n",
      "Data columns (total 20 columns):\n",
      "ทางหลวงสาย                           2691 non-null int64\n",
      "ตอนควบคุม                            2691 non-null int64\n",
      "ชื่อสายทาง                           2691 non-null object\n",
      "จุดสำรวจ                             2691 non-null object\n",
      "รถยนต์นั่ง (ไม่เกิน 7 คน)            2691 non-null object\n",
      "รถยนต์นั่ง (เกิน 7 คน)               2691 non-null object\n",
      "รถโดยสารขนาดเล็ก                     2691 non-null object\n",
      "รถโดยสารขนาดกลาง                     2691 non-null object\n",
      "รถโดยสารขนาดใหญ่                     2691 non-null object\n",
      "รถบรรทุกขนาดเล็ก    ( 4 ล้อ)         2691 non-null object\n",
      "รถบรรทุกขนาด 2 เพลา  (6 ล้อ)         2691 non-null object\n",
      "รถบรรทุกขนาด 3 เพลา (10 ล้อ)         2691 non-null object\n",
      "รถบรรทุกพ่วง  (มากกว่า 3 เพลา)       2691 non-null object\n",
      "รถบรรทุกกึ่งพ่วง (มากกว่า 3 เพลา)    2691 non-null object\n",
      "รวม                                  2691 non-null object\n",
      "% ของยานยนต์หนัก                     2691 non-null float64\n",
      "จักรยาน 2 ล้อ และ จักรยาน 3 ล้อ      2691 non-null object\n",
      "สามล้อเครื่องและจักรยานยนต์          2691 non-null object\n",
      "แขวงการทาง                           2691 non-null object\n",
      "จังหวัด                              2691 non-null object\n",
      "dtypes: float64(1), int64(2), object(17)\n",
      "memory usage: 420.5+ KB\n"
     ]
    }
   ],
   "source": [
    "df.info()"
   ]
  },
  {
   "cell_type": "markdown",
   "metadata": {},
   "source": [
    "จำนวนการใช้จักรยานในพื้นที่ในกรุงเทพฯ โดยเฉลี่ยในปี 2017"
   ]
  },
  {
   "cell_type": "code",
   "execution_count": 29,
   "metadata": {},
   "outputs": [],
   "source": [
    "df_bkk = df[df['จังหวัด'] == 'กรุงเทพมหานคร']"
   ]
  },
  {
   "cell_type": "code",
   "execution_count": 30,
   "metadata": {},
   "outputs": [
    {
     "data": {
      "text/plain": [
       "46.857142857142854"
      ]
     },
     "execution_count": 30,
     "metadata": {},
     "output_type": "execute_result"
    }
   ],
   "source": [
    "pd.to_numeric(df_bkk['จักรยาน 2 ล้อ และ จักรยาน 3 ล้อ'], errors='coerce').mean()"
   ]
  }
 ],
 "metadata": {
  "kernelspec": {
   "display_name": "Python 3",
   "language": "python",
   "name": "python3"
  },
  "language_info": {
   "codemirror_mode": {
    "name": "ipython",
    "version": 3
   },
   "file_extension": ".py",
   "mimetype": "text/x-python",
   "name": "python",
   "nbconvert_exporter": "python",
   "pygments_lexer": "ipython3",
   "version": "3.6.5"
  }
 },
 "nbformat": 4,
 "nbformat_minor": 2
}
